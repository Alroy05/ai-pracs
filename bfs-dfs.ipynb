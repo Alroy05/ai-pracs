{
 "cells": [
  {
   "cell_type": "markdown",
   "metadata": {},
   "source": [
    "#BFS"
   ]
  },
  {
   "cell_type": "code",
   "execution_count": null,
   "metadata": {},
   "outputs": [],
   "source": [
    "import collections\n",
    "\n",
    "def bfs(graph,root):\n",
    "    visited = set() # no duplicate elements\n",
    "    queue = collections.deque([root]) #deque double ended queue\n",
    "    \n",
    "    while queue:\n",
    "        vertex = queue.popleft()\n",
    "        visited.add(vertex)\n",
    "        \n",
    "        for i in graph[vertex]:\n",
    "            if i not in visited:\n",
    "                queue.append(i)\n",
    "    print(visited)\n",
    "    \n",
    "if __name__ == \"__main__\":\n",
    "    graph = {0: [1,2,3], 1: [0,2], 2: [0,1,4], 3: [0],4: [2]} # Adjacency List\n",
    "    bfs(graph,0)\n",
    "    \n",
    "    \n",
    "\"\"\" \n",
    "bfs graph is represented in 2 types:\n",
    "    1. Adjacency Matrix\n",
    "    2. Adjacency List\n",
    "\"\"\""
   ]
  },
  {
   "cell_type": "markdown",
   "metadata": {},
   "source": [
    "#DFS"
   ]
  },
  {
   "cell_type": "code",
   "execution_count": null,
   "metadata": {},
   "outputs": [],
   "source": [
    "def dfs(visited, graph, root):\n",
    "    if root not in visited:\n",
    "        print(root)\n",
    "        visited.add(root)\n",
    "        for neighbour in graph[root]:\n",
    "            dfs(visited, graph, neighbour)\n",
    "\n",
    "if __name__ == \"__main__\":\n",
    "    graph = {0: [1, 2, 3], 1: [0, 2], 2: [0, 1, 4], 3: [0], 4: [2]}\n",
    "    visited = set()\n",
    "    dfs(visited, graph, 0)\n"
   ]
  },
  {
   "cell_type": "markdown",
   "metadata": {},
   "source": [
    "#dfs without recursion"
   ]
  },
  {
   "cell_type": "code",
   "execution_count": null,
   "metadata": {},
   "outputs": [],
   "source": [
    "def dfs(graph, root):\n",
    "    visited = set()\n",
    "    stack = [root]\n",
    "\n",
    "    while stack:\n",
    "        vertex = stack.pop()\n",
    "        if vertex not in visited:\n",
    "            visited.add(vertex)\n",
    "            stack.extend(graph[vertex] - visited)\n",
    "\n",
    "    print(visited)\n",
    "\n",
    "if __name__ == \"__main__\":\n",
    "    graph = {0: set([1, 2, 3]), 1: set([0, 2]), 2: set([0, 1, 4]), 3: set([0]), 4: set([2])}\n",
    "    dfs(graph, 0)\n"
   ]
  },
  {
   "cell_type": "markdown",
   "metadata": {},
   "source": [
    "#IDDFS"
   ]
  },
  {
   "cell_type": "code",
   "execution_count": 7,
   "metadata": {},
   "outputs": [
    {
     "name": "stdout",
     "output_type": "stream",
     "text": [
      "A path exists from 0 to 4!\n"
     ]
    }
   ],
   "source": [
    "import collections\n",
    "\n",
    "def iddfs(graph, start, goal):\n",
    "    for depth in range(len(graph)):\n",
    "        visited = set()\n",
    "        if dfs(graph, start, goal, depth, visited):\n",
    "            return True\n",
    "    return False\n",
    "\n",
    "def dfs(graph, start, goal, depth, visited):\n",
    "    if start == goal:\n",
    "        return True\n",
    "\n",
    "    if depth == 0:\n",
    "        return False\n",
    "\n",
    "    visited.add(start)\n",
    "\n",
    "    for neighbor in graph[start]:\n",
    "        if neighbor not in visited:\n",
    "            if dfs(graph, neighbor, goal, depth - 1, visited):\n",
    "                return True\n",
    "    \n",
    "    visited.remove(start)\n",
    "    return False\n",
    "\n",
    "if __name__ == \"__main__\":\n",
    "    graph = {0: [1, 2, 3], 1: [0, 2], 2: [0, 1, 4], 3: [0], 4: [2]}\n",
    "\n",
    "    start = 0\n",
    "    goal = 4\n",
    "\n",
    "    if iddfs(graph, start, goal):\n",
    "        print(f\"A path exists from {start} to {goal}!\")\n",
    "    else:\n",
    "        print(f\"No path exists from {start} to {goal}.\")\n"
   ]
  },
  {
   "cell_type": "code",
   "execution_count": 8,
   "metadata": {},
   "outputs": [
    {
     "name": "stdout",
     "output_type": "stream",
     "text": [
      "Checking for destination A\n",
      "Checking for destination A\n",
      "Checking for destination B\n",
      "Checking for destination C\n",
      "Checking for destination A\n",
      "Checking for destination B\n",
      "Checking for destination D\n",
      "Checking for destination E\n",
      "A path exists\n",
      "['A', 'B', 'E']\n"
     ]
    }
   ],
   "source": [
    "graph = {\n",
    "    'A': ['B', 'C'],\n",
    "    'B': ['D','E'],\n",
    "    \"C\": ['G'],\n",
    "    'D': [],\n",
    "    'E': ['F'],\n",
    "    'G': [],\n",
    "    'F':[]\n",
    "}\n",
    "\n",
    "path = list()\n",
    "\n",
    "def DFS(currentNode,destination,graph,maxDepth,curList):\n",
    "    print(\"Checking for destination\",currentNode)\n",
    "    curList.append(currentNode)\n",
    "    if currentNode==destination:\n",
    "        return True\n",
    "    if maxDepth<=0:\n",
    "        path.append(curList)\n",
    "        return False\n",
    "    for node in graph[currentNode]:\n",
    "        if DFS(node,destination,graph,maxDepth-1,curList):\n",
    "            return True\n",
    "        else:\n",
    "            curList.pop()\n",
    "    return False\n",
    "\n",
    "def iterativeDDFS(currentNode,destination,graph,maxDepth):\n",
    "    for i in range(maxDepth):\n",
    "        curList = list()\n",
    "        if DFS(currentNode,destination,graph,i,curList):\n",
    "            return True\n",
    "    return False\n",
    "\n",
    "if not iterativeDDFS('A','E',graph,4):\n",
    "    print(\"Path is not available\")\n",
    "else:\n",
    "    print(\"A path exists\")\n",
    "    print(path.pop())"
   ]
  }
 ],
 "metadata": {
  "kernelspec": {
   "display_name": "Python 3",
   "language": "python",
   "name": "python3"
  },
  "language_info": {
   "codemirror_mode": {
    "name": "ipython",
    "version": 3
   },
   "file_extension": ".py",
   "mimetype": "text/x-python",
   "name": "python",
   "nbconvert_exporter": "python",
   "pygments_lexer": "ipython3",
   "version": "3.11.4"
  }
 },
 "nbformat": 4,
 "nbformat_minor": 2
}
