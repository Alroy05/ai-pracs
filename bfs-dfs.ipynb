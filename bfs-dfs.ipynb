{
 "cells": [
  {
   "cell_type": "markdown",
   "metadata": {},
   "source": [
    "#BFS"
   ]
  },
  {
   "cell_type": "code",
   "execution_count": null,
   "metadata": {
    "vscode": {
     "languageId": "plaintext"
    }
   },
   "outputs": [],
   "source": [
    "import collections\n",
    "\n",
    "def bfs(graph,root):\n",
    "    visited = set() # no duplicate elements\n",
    "    queue = collections.deque([root]) #deque double ended queue\n",
    "    \n",
    "    while queue:\n",
    "        vertex = queue.popleft()\n",
    "        visited.add(vertex)\n",
    "        \n",
    "        for i in graph[vertex]:\n",
    "            if i not in visited:\n",
    "                queue.append(i)\n",
    "    print(visited)\n",
    "    \n",
    "if __name__ == \"__main__\":\n",
    "    graph = {0: [1,2,3], 1: [0,2], 2: [0,1,4], 3: [0],4: [2]} # Adjacency List\n",
    "    bfs(graph,0)\n",
    "    \n",
    "    \n",
    "\"\"\" \n",
    "bfs graph is represented in 2 types:\n",
    "    1. Adjacency Matrix\n",
    "    2. Adjacency List\n",
    "\"\"\""
   ]
  },
  {
   "cell_type": "markdown",
   "metadata": {},
   "source": [
    "#DFS"
   ]
  },
  {
   "cell_type": "code",
   "execution_count": null,
   "metadata": {
    "vscode": {
     "languageId": "plaintext"
    }
   },
   "outputs": [],
   "source": [
    "def dfs(visited, graph, root):\n",
    "    if root not in visited:\n",
    "        print(root)\n",
    "        visited.add(root)\n",
    "        for neighbour in graph[root]:\n",
    "            dfs(visited, graph, neighbour)\n",
    "\n",
    "if __name__ == \"__main__\":\n",
    "    graph = {0: [1, 2, 3], 1: [0, 2], 2: [0, 1, 4], 3: [0], 4: [2]}\n",
    "    visited = set()\n",
    "    dfs(visited, graph, 0)\n"
   ]
  },
  {
   "cell_type": "markdown",
   "metadata": {},
   "source": [
    "#dfs without recursion"
   ]
  },
  {
   "cell_type": "code",
   "execution_count": null,
   "metadata": {
    "vscode": {
     "languageId": "plaintext"
    }
   },
   "outputs": [],
   "source": [
    "def dfs(graph, root):\n",
    "    visited = set()\n",
    "    stack = [root]\n",
    "\n",
    "    while stack:\n",
    "        vertex = stack.pop()\n",
    "        if vertex not in visited:\n",
    "            visited.add(vertex)\n",
    "            stack.extend(graph[vertex] - visited)\n",
    "\n",
    "    print(visited)\n",
    "\n",
    "if __name__ == \"__main__\":\n",
    "    graph = {0: set([1, 2, 3]), 1: set([0, 2]), 2: set([0, 1, 4]), 3: set([0]), 4: set([2])}\n",
    "    dfs(graph, 0)\n"
   ]
  }
 ],
 "metadata": {
  "language_info": {
   "name": "python"
  }
 },
 "nbformat": 4,
 "nbformat_minor": 2
}
