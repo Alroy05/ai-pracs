{
 "cells": [
  {
   "cell_type": "code",
   "execution_count": 1,
   "metadata": {},
   "outputs": [
    {
     "ename": "TypeError",
     "evalue": "'int' object is not iterable",
     "output_type": "error",
     "traceback": [
      "\u001b[1;31m---------------------------------------------------------------------------\u001b[0m",
      "\u001b[1;31mTypeError\u001b[0m                                 Traceback (most recent call last)",
      "Cell \u001b[1;32mIn[1], line 53\u001b[0m\n\u001b[0;32m     50\u001b[0m     \u001b[38;5;28;01mreturn\u001b[39;00m board\n\u001b[0;32m     52\u001b[0m n \u001b[38;5;241m=\u001b[39m \u001b[38;5;241m8\u001b[39m\n\u001b[1;32m---> 53\u001b[0m board \u001b[38;5;241m=\u001b[39m \u001b[43mqueens\u001b[49m\u001b[43m(\u001b[49m\u001b[43mn\u001b[49m\u001b[43m)\u001b[49m\n\u001b[0;32m     54\u001b[0m \u001b[38;5;28mprint\u001b[39m(board)\n",
      "Cell \u001b[1;32mIn[1], line 43\u001b[0m, in \u001b[0;36mqueens\u001b[1;34m(n, max_iter)\u001b[0m\n\u001b[0;32m     41\u001b[0m iteration \u001b[38;5;241m=\u001b[39m \u001b[38;5;241m0\u001b[39m\n\u001b[0;32m     42\u001b[0m \u001b[38;5;28;01mwhile\u001b[39;00m iteration \u001b[38;5;241m<\u001b[39m max_iter:\n\u001b[1;32m---> 43\u001b[0m     scores \u001b[38;5;241m=\u001b[39m \u001b[43m[\u001b[49m\u001b[43mscore\u001b[49m\u001b[43m(\u001b[49m\u001b[43mneighbour\u001b[49m\u001b[43m)\u001b[49m\u001b[43m \u001b[49m\u001b[38;5;28;43;01mfor\u001b[39;49;00m\u001b[43m \u001b[49m\u001b[43mneighbour\u001b[49m\u001b[43m \u001b[49m\u001b[38;5;129;43;01min\u001b[39;49;00m\u001b[43m \u001b[49m\u001b[43mboard\u001b[49m\u001b[43m]\u001b[49m\n\u001b[0;32m     44\u001b[0m     probabilities \u001b[38;5;241m=\u001b[39m [probability(n, score) \u001b[38;5;28;01mfor\u001b[39;00m n \u001b[38;5;129;01min\u001b[39;00m scores]\n\u001b[0;32m     45\u001b[0m     board \u001b[38;5;241m=\u001b[39m random_pick(board, probabilities)\n",
      "Cell \u001b[1;32mIn[1], line 43\u001b[0m, in \u001b[0;36m<listcomp>\u001b[1;34m(.0)\u001b[0m\n\u001b[0;32m     41\u001b[0m iteration \u001b[38;5;241m=\u001b[39m \u001b[38;5;241m0\u001b[39m\n\u001b[0;32m     42\u001b[0m \u001b[38;5;28;01mwhile\u001b[39;00m iteration \u001b[38;5;241m<\u001b[39m max_iter:\n\u001b[1;32m---> 43\u001b[0m     scores \u001b[38;5;241m=\u001b[39m [\u001b[43mscore\u001b[49m\u001b[43m(\u001b[49m\u001b[43mneighbour\u001b[49m\u001b[43m)\u001b[49m \u001b[38;5;28;01mfor\u001b[39;00m neighbour \u001b[38;5;129;01min\u001b[39;00m board]\n\u001b[0;32m     44\u001b[0m     probabilities \u001b[38;5;241m=\u001b[39m [probability(n, score) \u001b[38;5;28;01mfor\u001b[39;00m n \u001b[38;5;129;01min\u001b[39;00m scores]\n\u001b[0;32m     45\u001b[0m     board \u001b[38;5;241m=\u001b[39m random_pick(board, probabilities)\n",
      "Cell \u001b[1;32mIn[1], line 7\u001b[0m, in \u001b[0;36mscore\u001b[1;34m(board)\u001b[0m\n\u001b[0;32m      6\u001b[0m \u001b[38;5;28;01mdef\u001b[39;00m \u001b[38;5;21mscore\u001b[39m(board):\n\u001b[1;32m----> 7\u001b[0m     horizontal_collisions \u001b[38;5;241m=\u001b[39m \u001b[38;5;28msum\u001b[39m(\u001b[43m[\u001b[49m\u001b[43mboard\u001b[49m\u001b[38;5;241;43m.\u001b[39;49m\u001b[43mcount\u001b[49m\u001b[43m(\u001b[49m\u001b[43mqueen\u001b[49m\u001b[43m)\u001b[49m\u001b[43m \u001b[49m\u001b[38;5;241;43m-\u001b[39;49m\u001b[43m \u001b[49m\u001b[38;5;241;43m1\u001b[39;49m\u001b[43m \u001b[49m\u001b[38;5;28;43;01mfor\u001b[39;49;00m\u001b[43m \u001b[49m\u001b[43mqueen\u001b[49m\u001b[43m \u001b[49m\u001b[38;5;129;43;01min\u001b[39;49;00m\u001b[43m \u001b[49m\u001b[43mboard\u001b[49m\u001b[43m]\u001b[49m) \u001b[38;5;241m/\u001b[39m \u001b[38;5;241m2\u001b[39m\n\u001b[0;32m      8\u001b[0m     diagonal_collisions \u001b[38;5;241m=\u001b[39m \u001b[38;5;241m0\u001b[39m\n\u001b[0;32m     10\u001b[0m     n \u001b[38;5;241m=\u001b[39m \u001b[38;5;28mlen\u001b[39m(board)\n",
      "\u001b[1;31mTypeError\u001b[0m: 'int' object is not iterable"
     ]
    }
   ],
   "source": [
    "import random\n",
    "\n",
    "def random_board(n):\n",
    "    return [random.randint(0, n - 1) for _ in range(n)]\n",
    "\n",
    "def score(board):\n",
    "    horizontal_collisions = sum([board.count(queen) - 1 for queen in board]) / 2\n",
    "    diagonal_collisions = 0\n",
    "\n",
    "    n = len(board)\n",
    "    left_diagonal = [0] * 2*n\n",
    "    right_diagonal = [0] * 2*n\n",
    "    for i in range(n):\n",
    "        left_diagonal[i + board[i]] += 1\n",
    "        right_diagonal[len(board) - i + board[i] - 1] += 1\n",
    "\n",
    "    diagonal_collisions = 0\n",
    "    for i in range(2*n-1):\n",
    "        counter = 0\n",
    "        if left_diagonal[i] > 1:\n",
    "            counter += left_diagonal[i]-1\n",
    "        if right_diagonal[i] > 1:\n",
    "            counter += right_diagonal[i]-1\n",
    "        diagonal_collisions += counter / (n-abs(i-n+1))\n",
    "    \n",
    "    return int(maxFitness - (horizontal_collisions + diagonal_collisions))\n",
    "\n",
    "def probability(board, score):\n",
    "    return pow(2, -score(board))\n",
    "\n",
    "def random_pick(board, probabilities):\n",
    "    random_prob = random.uniform(0, sum(probabilities))\n",
    "    for i, prob in enumerate(probabilities):\n",
    "        random_prob -= prob\n",
    "        if random_prob < 0:\n",
    "            return board[i]\n",
    "\n",
    "def queens(n, max_iter=1000):\n",
    "    maxFitness = (n*(n-1))/2\n",
    "    board = random_board(n)\n",
    "    iteration = 0\n",
    "    while iteration < max_iter:\n",
    "        scores = [score(neighbour) for neighbour in board]\n",
    "        probabilities = [probability(n, score) for n in scores]\n",
    "        board = random_pick(board, probabilities)\n",
    "        if score(board) == maxFitness:\n",
    "            break\n",
    "        iteration += 1\n",
    "\n",
    "    return board\n",
    "\n",
    "n = 8\n",
    "board = queens(n)\n",
    "print(board)\n"
   ]
  }
 ],
 "metadata": {
  "kernelspec": {
   "display_name": "Python 3",
   "language": "python",
   "name": "python3"
  },
  "language_info": {
   "codemirror_mode": {
    "name": "ipython",
    "version": 3
   },
   "file_extension": ".py",
   "mimetype": "text/x-python",
   "name": "python",
   "nbconvert_exporter": "python",
   "pygments_lexer": "ipython3",
   "version": "3.11.5"
  }
 },
 "nbformat": 4,
 "nbformat_minor": 2
}
