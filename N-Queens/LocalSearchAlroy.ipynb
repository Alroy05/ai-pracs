{
 "cells": [
  {
   "cell_type": "code",
   "execution_count": 47,
   "metadata": {},
   "outputs": [
    {
     "name": "stdout",
     "output_type": "stream",
     "text": [
      "Solution found:\n",
      " .  .  .  .  .  Q  .  . \n",
      " .  .  .  Q  .  .  .  . \n",
      " .  .  .  .  .  .  Q  . \n",
      " Q  .  .  .  .  .  .  . \n",
      " .  .  .  .  .  .  .  Q \n",
      " .  Q  .  .  .  .  .  . \n",
      " .  .  .  .  Q  .  .  . \n",
      " .  .  Q  .  .  .  .  . \n"
     ]
    }
   ],
   "source": [
    "import random\n",
    "\n",
    "def conflicts(board, row, col):\n",
    "    \"\"\"\n",
    "    Calculate the number of conflicts for a queen placed at a given position.\n",
    "    \"\"\"\n",
    "    count = 0\n",
    "    for i in range(len(board)):\n",
    "        if i != row:\n",
    "            if board[i] == col or abs(i - row) == abs(board[i] - col):\n",
    "                count += 1\n",
    "    return count\n",
    "\n",
    "def evaluate(board):\n",
    "    \"\"\"\n",
    "    Evaluate the total number of conflicts in the current board state.\n",
    "    \"\"\"\n",
    "    total_conflicts = 0\n",
    "    for row in range(len(board)):\n",
    "        total_conflicts += conflicts(board, row, board[row])\n",
    "    return total_conflicts\n",
    "\n",
    "def random_board(size):\n",
    "    \"\"\"\n",
    "    Generate a random initial board state.\n",
    "    \"\"\"\n",
    "    return [random.randint(0, size-1) for _ in range(size)]\n",
    "\n",
    "def local_search(size, max_iter=1000):\n",
    "    \"\"\"\n",
    "    Local search algorithm to solve the N-Queens problem.\n",
    "    \"\"\"\n",
    "    board = random_board(size)\n",
    "    for _ in range(max_iter):\n",
    "        current_conflicts = evaluate(board)\n",
    "        if current_conflicts == 0:\n",
    "            return board  # Solution found\n",
    "        # Select a queen with conflicts\n",
    "        row = random.randint(0, size-1)\n",
    "        col = board[row]\n",
    "        current_conflicts -= conflicts(board, row, col)\n",
    "        min_conflicts = float('inf')\n",
    "        best_move = col\n",
    "        for new_col in range(size):\n",
    "            if new_col != col:\n",
    "                new_conflicts = conflicts(board, row, new_col)\n",
    "                if new_conflicts < min_conflicts:\n",
    "                    min_conflicts = new_conflicts\n",
    "                    best_move = new_col\n",
    "        if min_conflicts < current_conflicts:\n",
    "            board[row] = best_move\n",
    "    return None  # No solution found within max_iter\n",
    "\n",
    "# Example usage\n",
    "size = 8  # Change this to desired board size\n",
    "solution = local_search(size)\n",
    "if solution:\n",
    "    print(\"Solution found:\")\n",
    "    for row in solution:\n",
    "        print(\" . \" * row + \" Q \" + \" . \" * (size - row - 1))\n",
    "else:\n",
    "    print(\"No solution found within maximum iterations.\")\n"
   ]
  }
 ],
 "metadata": {
  "kernelspec": {
   "display_name": "Python 3",
   "language": "python",
   "name": "python3"
  },
  "language_info": {
   "codemirror_mode": {
    "name": "ipython",
    "version": 3
   },
   "file_extension": ".py",
   "mimetype": "text/x-python",
   "name": "python",
   "nbconvert_exporter": "python",
   "pygments_lexer": "ipython3",
   "version": "3.11.5"
  }
 },
 "nbformat": 4,
 "nbformat_minor": 2
}
