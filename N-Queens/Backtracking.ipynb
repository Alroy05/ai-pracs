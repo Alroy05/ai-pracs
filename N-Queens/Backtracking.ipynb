{
 "cells": [
  {
   "cell_type": "code",
   "execution_count": null,
   "metadata": {},
   "outputs": [],
   "source": [
    "board = [0]*20\n",
    "count = 0\n",
    "\n",
    "def main():\n",
    "    n = int(input(\"\\nEnter the Number of Queens : \"))\n",
    "    queen(1, n)\n",
    "\n",
    "def print_board(n):\n",
    "    global count\n",
    "    print(f\"\\n Solution {count} : \\n\\n\", end=\"\")\n",
    "    for i in range(1, n+1):\n",
    "        print(f\"\\t{i}\", end=\"\")\n",
    "    for i in range(1, n+1):\n",
    "        print(f\"\\n\\n{i}\", end=\"\")\n",
    "        for j in range(1, n+1):\n",
    "            if board[i] == j:\n",
    "                print(\"\\tQ\", end=\"\")\n",
    "            else:\n",
    "                print(\"\\t-\", end=\"\")\n",
    "\n",
    "def is_safe(row, column):\n",
    "    for i in range(1, row):\n",
    "        if board[i] == column or abs(board[i]-column) == abs(i-row):\n",
    "            return False\n",
    "    return True\n",
    "\n",
    "def queen(row, n):\n",
    "    for column in range(1, n+1):\n",
    "        if is_safe(row, column):\n",
    "            board[row] = column\n",
    "            if row == n:\n",
    "                global count\n",
    "                count += 1\n",
    "                print_board(n)\n",
    "            else:\n",
    "                queen(row+1, n)\n",
    "\n",
    "if __name__ == \"__main__\":\n",
    "    main()"
   ]
  }
 ],
 "metadata": {
  "language_info": {
   "name": "python"
  }
 },
 "nbformat": 4,
 "nbformat_minor": 2
}
